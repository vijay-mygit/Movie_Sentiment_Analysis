{
 "cells": [
  {
   "cell_type": "code",
   "execution_count": 74,
   "metadata": {},
   "outputs": [
    {
     "data": {
      "text/html": [
       "<div>\n",
       "<style scoped>\n",
       "    .dataframe tbody tr th:only-of-type {\n",
       "        vertical-align: middle;\n",
       "    }\n",
       "\n",
       "    .dataframe tbody tr th {\n",
       "        vertical-align: top;\n",
       "    }\n",
       "\n",
       "    .dataframe thead th {\n",
       "        text-align: right;\n",
       "    }\n",
       "</style>\n",
       "<table border=\"1\" class=\"dataframe\">\n",
       "  <thead>\n",
       "    <tr style=\"text-align: right;\">\n",
       "      <th></th>\n",
       "      <th>sentiment</th>\n",
       "      <th>review</th>\n",
       "    </tr>\n",
       "  </thead>\n",
       "  <tbody>\n",
       "    <tr>\n",
       "      <td>0</td>\n",
       "      <td>positive</td>\n",
       "      <td>One of the other reviewers has mentioned that ...</td>\n",
       "    </tr>\n",
       "    <tr>\n",
       "      <td>1</td>\n",
       "      <td>positive</td>\n",
       "      <td>A wonderful little production. &lt;br /&gt;&lt;br /&gt;The...</td>\n",
       "    </tr>\n",
       "    <tr>\n",
       "      <td>2</td>\n",
       "      <td>positive</td>\n",
       "      <td>I thought this was a wonderful way to spend ti...</td>\n",
       "    </tr>\n",
       "    <tr>\n",
       "      <td>3</td>\n",
       "      <td>negative</td>\n",
       "      <td>Basically there's a family where a little boy ...</td>\n",
       "    </tr>\n",
       "    <tr>\n",
       "      <td>4</td>\n",
       "      <td>positive</td>\n",
       "      <td>Petter Mattei's \"Love in the Time of Money\" is...</td>\n",
       "    </tr>\n",
       "  </tbody>\n",
       "</table>\n",
       "</div>"
      ],
      "text/plain": [
       "  sentiment                                             review\n",
       "0  positive  One of the other reviewers has mentioned that ...\n",
       "1  positive  A wonderful little production. <br /><br />The...\n",
       "2  positive  I thought this was a wonderful way to spend ti...\n",
       "3  negative  Basically there's a family where a little boy ...\n",
       "4  positive  Petter Mattei's \"Love in the Time of Money\" is..."
      ]
     },
     "execution_count": 74,
     "metadata": {},
     "output_type": "execute_result"
    }
   ],
   "source": [
    "import pandas as pd\n",
    "# train Data\n",
    "Data = pd.read_csv(\"https://imdb-reviews-data.s3.us-east-2.amazonaws.com/IMDB%2BDataset+(1).csv\")\n",
    "Data.head()"
   ]
  },
  {
   "cell_type": "code",
   "execution_count": 29,
   "metadata": {},
   "outputs": [],
   "source": [
    "from sklearn.model_selection import train_test_split\n",
    "train,test = train_test_split(Data)"
   ]
  },
  {
   "cell_type": "code",
   "execution_count": 30,
   "metadata": {},
   "outputs": [
    {
     "data": {
      "text/html": [
       "<div>\n",
       "<style scoped>\n",
       "    .dataframe tbody tr th:only-of-type {\n",
       "        vertical-align: middle;\n",
       "    }\n",
       "\n",
       "    .dataframe tbody tr th {\n",
       "        vertical-align: top;\n",
       "    }\n",
       "\n",
       "    .dataframe thead th {\n",
       "        text-align: right;\n",
       "    }\n",
       "</style>\n",
       "<table border=\"1\" class=\"dataframe\">\n",
       "  <thead>\n",
       "    <tr style=\"text-align: right;\">\n",
       "      <th></th>\n",
       "      <th>sentiment</th>\n",
       "      <th>review</th>\n",
       "    </tr>\n",
       "  </thead>\n",
       "  <tbody>\n",
       "    <tr>\n",
       "      <td>45258</td>\n",
       "      <td>negative</td>\n",
       "      <td>I went to see this film at the cinemas and i w...</td>\n",
       "    </tr>\n",
       "    <tr>\n",
       "      <td>13194</td>\n",
       "      <td>positive</td>\n",
       "      <td>This is better then the first. The movie opens...</td>\n",
       "    </tr>\n",
       "    <tr>\n",
       "      <td>27250</td>\n",
       "      <td>negative</td>\n",
       "      <td>A multi-millionaire marries a female doctor. H...</td>\n",
       "    </tr>\n",
       "    <tr>\n",
       "      <td>5524</td>\n",
       "      <td>positive</td>\n",
       "      <td>This is a really sad, and touching movie! It d...</td>\n",
       "    </tr>\n",
       "    <tr>\n",
       "      <td>43966</td>\n",
       "      <td>positive</td>\n",
       "      <td>I would recommend this for anyone who is an ad...</td>\n",
       "    </tr>\n",
       "    <tr>\n",
       "      <td>...</td>\n",
       "      <td>...</td>\n",
       "      <td>...</td>\n",
       "    </tr>\n",
       "    <tr>\n",
       "      <td>31938</td>\n",
       "      <td>negative</td>\n",
       "      <td>POSSIBLE SPOILERS&lt;br /&gt;&lt;br /&gt;The Spy Who Shagg...</td>\n",
       "    </tr>\n",
       "    <tr>\n",
       "      <td>2445</td>\n",
       "      <td>negative</td>\n",
       "      <td>The movie was disappointing. The book was powe...</td>\n",
       "    </tr>\n",
       "    <tr>\n",
       "      <td>21385</td>\n",
       "      <td>positive</td>\n",
       "      <td>Sometimes, but very rarely, a movie tells a st...</td>\n",
       "    </tr>\n",
       "    <tr>\n",
       "      <td>24288</td>\n",
       "      <td>positive</td>\n",
       "      <td>Although i am inclined to agree with the other...</td>\n",
       "    </tr>\n",
       "    <tr>\n",
       "      <td>31228</td>\n",
       "      <td>negative</td>\n",
       "      <td>When they announced this movie for TNT I was e...</td>\n",
       "    </tr>\n",
       "  </tbody>\n",
       "</table>\n",
       "<p>37501 rows × 2 columns</p>\n",
       "</div>"
      ],
      "text/plain": [
       "      sentiment                                             review\n",
       "45258  negative  I went to see this film at the cinemas and i w...\n",
       "13194  positive  This is better then the first. The movie opens...\n",
       "27250  negative  A multi-millionaire marries a female doctor. H...\n",
       "5524   positive  This is a really sad, and touching movie! It d...\n",
       "43966  positive  I would recommend this for anyone who is an ad...\n",
       "...         ...                                                ...\n",
       "31938  negative  POSSIBLE SPOILERS<br /><br />The Spy Who Shagg...\n",
       "2445   negative  The movie was disappointing. The book was powe...\n",
       "21385  positive  Sometimes, but very rarely, a movie tells a st...\n",
       "24288  positive  Although i am inclined to agree with the other...\n",
       "31228  negative  When they announced this movie for TNT I was e...\n",
       "\n",
       "[37501 rows x 2 columns]"
      ]
     },
     "execution_count": 30,
     "metadata": {},
     "output_type": "execute_result"
    }
   ],
   "source": [
    "train"
   ]
  },
  {
   "cell_type": "code",
   "execution_count": 31,
   "metadata": {},
   "outputs": [
    {
     "data": {
      "text/html": [
       "<div>\n",
       "<style scoped>\n",
       "    .dataframe tbody tr th:only-of-type {\n",
       "        vertical-align: middle;\n",
       "    }\n",
       "\n",
       "    .dataframe tbody tr th {\n",
       "        vertical-align: top;\n",
       "    }\n",
       "\n",
       "    .dataframe thead th {\n",
       "        text-align: right;\n",
       "    }\n",
       "</style>\n",
       "<table border=\"1\" class=\"dataframe\">\n",
       "  <thead>\n",
       "    <tr style=\"text-align: right;\">\n",
       "      <th></th>\n",
       "      <th>sentiment</th>\n",
       "      <th>review</th>\n",
       "    </tr>\n",
       "  </thead>\n",
       "  <tbody>\n",
       "    <tr>\n",
       "      <td>24980</td>\n",
       "      <td>negative</td>\n",
       "      <td>In the first one it was mainly giant rats, but...</td>\n",
       "    </tr>\n",
       "    <tr>\n",
       "      <td>18202</td>\n",
       "      <td>positive</td>\n",
       "      <td>There are so many '10 Best' lists which could ...</td>\n",
       "    </tr>\n",
       "    <tr>\n",
       "      <td>4758</td>\n",
       "      <td>positive</td>\n",
       "      <td>To paraphrase Thora Birch: \"I kind of like thi...</td>\n",
       "    </tr>\n",
       "    <tr>\n",
       "      <td>20874</td>\n",
       "      <td>positive</td>\n",
       "      <td>I hate over-long over-talky French movies, but...</td>\n",
       "    </tr>\n",
       "    <tr>\n",
       "      <td>10108</td>\n",
       "      <td>positive</td>\n",
       "      <td>1959 was a landmark in the world of film. Seve...</td>\n",
       "    </tr>\n",
       "    <tr>\n",
       "      <td>...</td>\n",
       "      <td>...</td>\n",
       "      <td>...</td>\n",
       "    </tr>\n",
       "    <tr>\n",
       "      <td>42923</td>\n",
       "      <td>negative</td>\n",
       "      <td>I remember this movie with feelings of sheer ....</td>\n",
       "    </tr>\n",
       "    <tr>\n",
       "      <td>16859</td>\n",
       "      <td>negative</td>\n",
       "      <td>Interesting to read comments by viewers regard...</td>\n",
       "    </tr>\n",
       "    <tr>\n",
       "      <td>43421</td>\n",
       "      <td>positive</td>\n",
       "      <td>Undoubtedly the best heavy metal horror item m...</td>\n",
       "    </tr>\n",
       "    <tr>\n",
       "      <td>40522</td>\n",
       "      <td>positive</td>\n",
       "      <td>Okay, let's face it. this is a god-awful movie...</td>\n",
       "    </tr>\n",
       "    <tr>\n",
       "      <td>17301</td>\n",
       "      <td>negative</td>\n",
       "      <td>A few weeks ago, I read the classic George Orw...</td>\n",
       "    </tr>\n",
       "  </tbody>\n",
       "</table>\n",
       "<p>12501 rows × 2 columns</p>\n",
       "</div>"
      ],
      "text/plain": [
       "      sentiment                                             review\n",
       "24980  negative  In the first one it was mainly giant rats, but...\n",
       "18202  positive  There are so many '10 Best' lists which could ...\n",
       "4758   positive  To paraphrase Thora Birch: \"I kind of like thi...\n",
       "20874  positive  I hate over-long over-talky French movies, but...\n",
       "10108  positive  1959 was a landmark in the world of film. Seve...\n",
       "...         ...                                                ...\n",
       "42923  negative  I remember this movie with feelings of sheer ....\n",
       "16859  negative  Interesting to read comments by viewers regard...\n",
       "43421  positive  Undoubtedly the best heavy metal horror item m...\n",
       "40522  positive  Okay, let's face it. this is a god-awful movie...\n",
       "17301  negative  A few weeks ago, I read the classic George Orw...\n",
       "\n",
       "[12501 rows x 2 columns]"
      ]
     },
     "execution_count": 31,
     "metadata": {},
     "output_type": "execute_result"
    }
   ],
   "source": [
    "test"
   ]
  },
  {
   "cell_type": "code",
   "execution_count": 32,
   "metadata": {},
   "outputs": [],
   "source": [
    "from sklearn.feature_extraction.text import TfidfVectorizer\n",
    "# Create feature vectors\n",
    "vectorizer = TfidfVectorizer(min_df = 5,\n",
    "                             max_df = 0.8,\n",
    "                             ngram_range = (2,2), \n",
    "                             sublinear_tf = True,\n",
    "                             use_idf = True)\n",
    "train_vectors = vectorizer.fit_transform(train['review'])\n",
    "test_vectors = vectorizer.transform(test['review'])"
   ]
  },
  {
   "cell_type": "code",
   "execution_count": 33,
   "metadata": {},
   "outputs": [
    {
     "name": "stdout",
     "output_type": "stream",
     "text": [
      "Training time: 8339.503385s; Prediction time: 379.658298s\n",
      "positive:  {'precision': 0.8976809777499216, 'recall': 0.9059139784946236, 'f1-score': 0.9017786872343774, 'support': 6324}\n",
      "negative:  {'precision': 0.9027618891975813, 'recall': 0.894285251740327, 'f1-score': 0.8985035783994795, 'support': 6177}\n"
     ]
    }
   ],
   "source": [
    "import time\n",
    "from sklearn import svm\n",
    "from sklearn.metrics import classification_report\n",
    "# Perform classification with SVM, kernel=linear\n",
    "classifier_linear = svm.SVC(kernel='linear')\n",
    "t0 = time.time()\n",
    "classifier_linear.fit(train_vectors, train['sentiment'])\n",
    "t1 = time.time()\n",
    "prediction_linear = classifier_linear.predict(test_vectors)\n",
    "t2 = time.time()\n",
    "time_linear_train = t1-t0\n",
    "time_linear_predict = t2-t1\n",
    "# results\n",
    "print(\"Training time: %fs; Prediction time: %fs\" % (time_linear_train, time_linear_predict))\n",
    "report = classification_report(test['sentiment'], prediction_linear, output_dict=True)\n",
    "print('positive: ', report['positive'])\n",
    "print('negative: ', report['negative'])"
   ]
  },
  {
   "cell_type": "code",
   "execution_count": 75,
   "metadata": {},
   "outputs": [
    {
     "name": "stdout",
     "output_type": "stream",
     "text": [
      "['negative']\n"
     ]
    }
   ],
   "source": [
    "review = \"\"\"this is not a good movie\"\"\"\n",
    "review_vector = vectorizer.transform([review]) # vectorizing\n",
    "print(classifier_linear.predict(review_vector))"
   ]
  },
  {
   "cell_type": "code",
   "execution_count": 83,
   "metadata": {},
   "outputs": [
    {
     "name": "stdout",
     "output_type": "stream",
     "text": [
      "['negative']\n"
     ]
    }
   ],
   "source": [
    "review = \"\"\"good\"\"\"\n",
    "review_vector = vectorizer.transform([review]) # vectorizing\n",
    "print(classifier_linear.predict(review_vector))"
   ]
  },
  {
   "cell_type": "code",
   "execution_count": 76,
   "metadata": {},
   "outputs": [
    {
     "name": "stdout",
     "output_type": "stream",
     "text": [
      "['negative']\n"
     ]
    }
   ],
   "source": [
    "review = \"\"\"not good\"\"\"\n",
    "review_vector = vectorizer.transform([review]) # vectorizing\n",
    "print(classifier_linear.predict(review_vector))"
   ]
  },
  {
   "cell_type": "code",
   "execution_count": 77,
   "metadata": {},
   "outputs": [
    {
     "name": "stdout",
     "output_type": "stream",
     "text": [
      "['negative']\n"
     ]
    }
   ],
   "source": [
    "review = \"\"\"i did not bother to watch it\"\"\"\n",
    "review_vector = vectorizer.transform([review]) # vectorizing\n",
    "print(classifier_linear.predict(review_vector))"
   ]
  },
  {
   "cell_type": "code",
   "execution_count": 78,
   "metadata": {},
   "outputs": [
    {
     "name": "stdout",
     "output_type": "stream",
     "text": [
      "['negative']\n"
     ]
    }
   ],
   "source": [
    "review = \"\"\"Technically right but ... something missing\"\"\"\n",
    "review_vector = vectorizer.transform([review]) # vectorizing\n",
    "print(classifier_linear.predict(review_vector))"
   ]
  },
  {
   "cell_type": "code",
   "execution_count": 79,
   "metadata": {},
   "outputs": [
    {
     "name": "stdout",
     "output_type": "stream",
     "text": [
      "['negative']\n"
     ]
    }
   ],
   "source": [
    "review = \"\"\"this movie is not that great. i liked the previous one and would not recommend this movie to my friends.\"\"\"\n",
    "review_vector = vectorizer.transform([review]) # vectorizing\n",
    "print(classifier_linear.predict(review_vector))"
   ]
  },
  {
   "cell_type": "code",
   "execution_count": 80,
   "metadata": {},
   "outputs": [
    {
     "name": "stdout",
     "output_type": "stream",
     "text": [
      "['negative']\n"
     ]
    }
   ],
   "source": [
    "review = \"\"\"bad\"\"\"\n",
    "review_vector = vectorizer.transform([review]) # vectorizing\n",
    "print(classifier_linear.predict(review_vector))"
   ]
  },
  {
   "cell_type": "code",
   "execution_count": 81,
   "metadata": {},
   "outputs": [
    {
     "name": "stdout",
     "output_type": "stream",
     "text": [
      "['positive']\n"
     ]
    }
   ],
   "source": [
    "review = \"\"\"not bad\"\"\"\n",
    "review_vector = vectorizer.transform([review]) # vectorizing\n",
    "print(classifier_linear.predict(review_vector))"
   ]
  },
  {
   "cell_type": "code",
   "execution_count": 82,
   "metadata": {},
   "outputs": [
    {
     "data": {
      "text/plain": [
       "['svm_model_2.joblib']"
      ]
     },
     "execution_count": 82,
     "metadata": {},
     "output_type": "execute_result"
    }
   ],
   "source": [
    "from joblib import dump, load\n",
    "dump(classifier_linear, 'svm_model_2.joblib')"
   ]
  },
  {
   "cell_type": "code",
   "execution_count": 84,
   "metadata": {},
   "outputs": [
    {
     "data": {
      "text/plain": [
       "['vect.joblib']"
      ]
     },
     "execution_count": 84,
     "metadata": {},
     "output_type": "execute_result"
    }
   ],
   "source": [
    "from joblib import dump, load\n",
    "dump(vectorizer, 'vect.joblib')"
   ]
  },
  {
   "cell_type": "code",
   "execution_count": null,
   "metadata": {},
   "outputs": [],
   "source": []
  }
 ],
 "metadata": {
  "kernelspec": {
   "display_name": "Python 3",
   "language": "python",
   "name": "python3"
  },
  "language_info": {
   "codemirror_mode": {
    "name": "ipython",
    "version": 3
   },
   "file_extension": ".py",
   "mimetype": "text/x-python",
   "name": "python",
   "nbconvert_exporter": "python",
   "pygments_lexer": "ipython3",
   "version": "3.7.4"
  }
 },
 "nbformat": 4,
 "nbformat_minor": 2
}
