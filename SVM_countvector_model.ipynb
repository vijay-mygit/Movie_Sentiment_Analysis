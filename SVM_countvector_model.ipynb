{
 "cells": [
  {
   "cell_type": "code",
   "execution_count": 135,
   "metadata": {},
   "outputs": [
    {
     "data": {
      "text/html": [
       "<div>\n",
       "<style scoped>\n",
       "    .dataframe tbody tr th:only-of-type {\n",
       "        vertical-align: middle;\n",
       "    }\n",
       "\n",
       "    .dataframe tbody tr th {\n",
       "        vertical-align: top;\n",
       "    }\n",
       "\n",
       "    .dataframe thead th {\n",
       "        text-align: right;\n",
       "    }\n",
       "</style>\n",
       "<table border=\"1\" class=\"dataframe\">\n",
       "  <thead>\n",
       "    <tr style=\"text-align: right;\">\n",
       "      <th></th>\n",
       "      <th>sentiment</th>\n",
       "      <th>review</th>\n",
       "    </tr>\n",
       "  </thead>\n",
       "  <tbody>\n",
       "    <tr>\n",
       "      <td>0</td>\n",
       "      <td>positive</td>\n",
       "      <td>One of the other reviewers has mentioned that ...</td>\n",
       "    </tr>\n",
       "    <tr>\n",
       "      <td>1</td>\n",
       "      <td>positive</td>\n",
       "      <td>A wonderful little production. &lt;br /&gt;&lt;br /&gt;The...</td>\n",
       "    </tr>\n",
       "    <tr>\n",
       "      <td>2</td>\n",
       "      <td>positive</td>\n",
       "      <td>I thought this was a wonderful way to spend ti...</td>\n",
       "    </tr>\n",
       "    <tr>\n",
       "      <td>3</td>\n",
       "      <td>negative</td>\n",
       "      <td>Basically there's a family where a little boy ...</td>\n",
       "    </tr>\n",
       "    <tr>\n",
       "      <td>4</td>\n",
       "      <td>positive</td>\n",
       "      <td>Petter Mattei's \"Love in the Time of Money\" is...</td>\n",
       "    </tr>\n",
       "  </tbody>\n",
       "</table>\n",
       "</div>"
      ],
      "text/plain": [
       "  sentiment                                             review\n",
       "0  positive  One of the other reviewers has mentioned that ...\n",
       "1  positive  A wonderful little production. <br /><br />The...\n",
       "2  positive  I thought this was a wonderful way to spend ti...\n",
       "3  negative  Basically there's a family where a little boy ...\n",
       "4  positive  Petter Mattei's \"Love in the Time of Money\" is..."
      ]
     },
     "execution_count": 135,
     "metadata": {},
     "output_type": "execute_result"
    }
   ],
   "source": [
    "import pandas as pd\n",
    "# train Data\n",
    "Data = pd.read_csv(\"https://imdb-reviews-data.s3.us-east-2.amazonaws.com/IMDB%2BDataset+(1).csv\")\n",
    "train_data = pd.read_excel(\"train_data.xlsx\")\n",
    "train_data.head()"
   ]
  },
  {
   "cell_type": "code",
   "execution_count": 136,
   "metadata": {},
   "outputs": [
    {
     "data": {
      "text/html": [
       "<div>\n",
       "<style scoped>\n",
       "    .dataframe tbody tr th:only-of-type {\n",
       "        vertical-align: middle;\n",
       "    }\n",
       "\n",
       "    .dataframe tbody tr th {\n",
       "        vertical-align: top;\n",
       "    }\n",
       "\n",
       "    .dataframe thead th {\n",
       "        text-align: right;\n",
       "    }\n",
       "</style>\n",
       "<table border=\"1\" class=\"dataframe\">\n",
       "  <thead>\n",
       "    <tr style=\"text-align: right;\">\n",
       "      <th></th>\n",
       "      <th>sentiment</th>\n",
       "      <th>review</th>\n",
       "    </tr>\n",
       "  </thead>\n",
       "  <tbody>\n",
       "    <tr>\n",
       "      <td>0</td>\n",
       "      <td>negative</td>\n",
       "      <td>I bought a set of 4 DVDs for 10 bucks at my lo...</td>\n",
       "    </tr>\n",
       "    <tr>\n",
       "      <td>1</td>\n",
       "      <td>negative</td>\n",
       "      <td>I am still trying to figure out what the targe...</td>\n",
       "    </tr>\n",
       "    <tr>\n",
       "      <td>2</td>\n",
       "      <td>positive</td>\n",
       "      <td>For those not in the know, the Asterix books a...</td>\n",
       "    </tr>\n",
       "    <tr>\n",
       "      <td>3</td>\n",
       "      <td>negative</td>\n",
       "      <td>What's this? A Canadian produced zombie flick ...</td>\n",
       "    </tr>\n",
       "    <tr>\n",
       "      <td>4</td>\n",
       "      <td>positive</td>\n",
       "      <td>The full title of this film is 'May you be in ...</td>\n",
       "    </tr>\n",
       "  </tbody>\n",
       "</table>\n",
       "</div>"
      ],
      "text/plain": [
       "  sentiment                                             review\n",
       "0  negative  I bought a set of 4 DVDs for 10 bucks at my lo...\n",
       "1  negative  I am still trying to figure out what the targe...\n",
       "2  positive  For those not in the know, the Asterix books a...\n",
       "3  negative  What's this? A Canadian produced zombie flick ...\n",
       "4  positive  The full title of this film is 'May you be in ..."
      ]
     },
     "execution_count": 136,
     "metadata": {},
     "output_type": "execute_result"
    }
   ],
   "source": [
    "test_data = pd.read_excel(\"test_data.xlsx\")\n",
    "test_data.head()"
   ]
  },
  {
   "cell_type": "code",
   "execution_count": 137,
   "metadata": {},
   "outputs": [
    {
     "data": {
      "text/html": [
       "<div>\n",
       "<style scoped>\n",
       "    .dataframe tbody tr th:only-of-type {\n",
       "        vertical-align: middle;\n",
       "    }\n",
       "\n",
       "    .dataframe tbody tr th {\n",
       "        vertical-align: top;\n",
       "    }\n",
       "\n",
       "    .dataframe thead th {\n",
       "        text-align: right;\n",
       "    }\n",
       "</style>\n",
       "<table border=\"1\" class=\"dataframe\">\n",
       "  <thead>\n",
       "    <tr style=\"text-align: right;\">\n",
       "      <th></th>\n",
       "      <th>sentiment</th>\n",
       "      <th>review</th>\n",
       "    </tr>\n",
       "  </thead>\n",
       "  <tbody>\n",
       "    <tr>\n",
       "      <td>2273</td>\n",
       "      <td>negative</td>\n",
       "      <td>There is one adjective that describes everythi...</td>\n",
       "    </tr>\n",
       "    <tr>\n",
       "      <td>855</td>\n",
       "      <td>positive</td>\n",
       "      <td>A friend lent me this DVD, which he got from t...</td>\n",
       "    </tr>\n",
       "    <tr>\n",
       "      <td>2790</td>\n",
       "      <td>negative</td>\n",
       "      <td>It makes the actors in Hollyoaks look like the...</td>\n",
       "    </tr>\n",
       "    <tr>\n",
       "      <td>538</td>\n",
       "      <td>negative</td>\n",
       "      <td>Sixth escapade for Freddy Krueger in which he ...</td>\n",
       "    </tr>\n",
       "    <tr>\n",
       "      <td>2551</td>\n",
       "      <td>positive</td>\n",
       "      <td>I always liked this movie, I have seen it so m...</td>\n",
       "    </tr>\n",
       "  </tbody>\n",
       "</table>\n",
       "</div>"
      ],
      "text/plain": [
       "     sentiment                                             review\n",
       "2273  negative  There is one adjective that describes everythi...\n",
       "855   positive  A friend lent me this DVD, which he got from t...\n",
       "2790  negative  It makes the actors in Hollyoaks look like the...\n",
       "538   negative  Sixth escapade for Freddy Krueger in which he ...\n",
       "2551  positive  I always liked this movie, I have seen it so m..."
      ]
     },
     "execution_count": 137,
     "metadata": {},
     "output_type": "execute_result"
    }
   ],
   "source": [
    "train_data.sample(frac=1).head(5) # shuffle the df and pick first 5"
   ]
  },
  {
   "cell_type": "code",
   "execution_count": 138,
   "metadata": {},
   "outputs": [],
   "source": [
    "from sklearn.model_selection import train_test_split\n",
    "train,test = train_test_split(Data)"
   ]
  },
  {
   "cell_type": "code",
   "execution_count": 139,
   "metadata": {},
   "outputs": [],
   "source": [
    "from sklearn.feature_extraction.text import CountVectorizer\n",
    "# Create feature vectors\n",
    "vectorizer = CountVectorizer(max_features=10000, ngram_range=(2,2),binary=True, max_df=0.8,stop_words={'english'})\n",
    "train_vectors = vectorizer.fit_transform(train['review'])\n",
    "test_vectors = vectorizer.transform(test['review'])"
   ]
  },
  {
   "cell_type": "code",
   "execution_count": 140,
   "metadata": {},
   "outputs": [
    {
     "name": "stdout",
     "output_type": "stream",
     "text": [
      "Training time: 7661.249585s; Prediction time: 86.581353s\n",
      "positive:  {'precision': 0.8277177368086459, 'recall': 0.8283760139971369, 'f1-score': 0.8280467445742906, 'support': 6287}\n",
      "negative:  {'precision': 0.8262200032211306, 'recall': 0.8255551979401352, 'f1-score': 0.8258874667954601, 'support': 6214}\n"
     ]
    }
   ],
   "source": [
    "import time\n",
    "from sklearn import svm\n",
    "from sklearn.metrics import classification_report\n",
    "# Perform classification with SVM, kernel=linear\n",
    "classifier_linear = svm.SVC(kernel='linear')\n",
    "t0 = time.time()\n",
    "classifier_linear.fit(train_vectors, train['sentiment'])\n",
    "t1 = time.time()\n",
    "prediction_linear = classifier_linear.predict(test_vectors)\n",
    "t2 = time.time()\n",
    "time_linear_train = t1-t0\n",
    "time_linear_predict = t2-t1\n",
    "# results\n",
    "print(\"Training time: %fs; Prediction time: %fs\" % (time_linear_train, time_linear_predict))\n",
    "report = classification_report(test['sentiment'], prediction_linear, output_dict=True)\n",
    "print('positive: ', report['positive'])\n",
    "print('negative: ', report['negative'])"
   ]
  },
  {
   "cell_type": "code",
   "execution_count": 141,
   "metadata": {},
   "outputs": [
    {
     "name": "stdout",
     "output_type": "stream",
     "text": [
      "  (0, 5372)\t1\n",
      "['negative']\n"
     ]
    }
   ],
   "source": [
    "review = \"\"\"not good\"\"\"\n",
    "review_vector = vectorizer.transform([review]) # vectorizing\n",
    "print(review_vector)\n",
    "#print(f\"Thank you for the {model.predict(review_vector)} review\")\n",
    "print(classifier_linear.predict(review_vector))"
   ]
  },
  {
   "cell_type": "code",
   "execution_count": 142,
   "metadata": {},
   "outputs": [
    {
     "name": "stdout",
     "output_type": "stream",
     "text": [
      "Thank you for the ['negative'] review\n"
     ]
    }
   ],
   "source": [
    "review = \"\"\"good\"\"\"\n",
    "review_vector = vectorizer.transform([review]) # vectorizing\n",
    "review_sentiment = classifier_linear.predict(review_vector)\n",
    "print(f\"Thank you for the {review_sentiment} review\")"
   ]
  },
  {
   "cell_type": "code",
   "execution_count": 143,
   "metadata": {},
   "outputs": [
    {
     "name": "stdout",
     "output_type": "stream",
     "text": [
      "Thank you for the ['negative'] review\n"
     ]
    }
   ],
   "source": [
    "review = \"\"\"Technically right but ... something missing\"\"\"\n",
    "review_vector = vectorizer.transform([review]) # vectorizing\n",
    "review_sentiment = classifier_linear.predict(review_vector)\n",
    "print(f\"Thank you for the {review_sentiment} review\")"
   ]
  },
  {
   "cell_type": "code",
   "execution_count": 144,
   "metadata": {},
   "outputs": [
    {
     "name": "stdout",
     "output_type": "stream",
     "text": [
      "Thank you for the ['negative'] review\n"
     ]
    }
   ],
   "source": [
    "review = \"\"\"this movie is not that great. i liked the previous one and would not recommend this movie to my friends.\"\"\"\n",
    "review_vector = vectorizer.transform([review]) # vectorizing\n",
    "review_sentiment = classifier_linear.predict(review_vector)\n",
    "print(f\"Thank you for the {review_sentiment} review\")"
   ]
  },
  {
   "cell_type": "code",
   "execution_count": 145,
   "metadata": {},
   "outputs": [
    {
     "name": "stdout",
     "output_type": "stream",
     "text": [
      "Thank you for the ['negative'] review\n"
     ]
    }
   ],
   "source": [
    "review = \"\"\"bad\"\"\"\n",
    "review_vector = vectorizer.transform([review]) # vectorizing\n",
    "review_sentiment = classifier_linear.predict(review_vector)\n",
    "print(f\"Thank you for the {review_sentiment} review\")"
   ]
  },
  {
   "cell_type": "code",
   "execution_count": 146,
   "metadata": {},
   "outputs": [
    {
     "name": "stdout",
     "output_type": "stream",
     "text": [
      "Thank you for the ['negative'] review\n"
     ]
    }
   ],
   "source": [
    "review = \"\"\"not bad\"\"\"\n",
    "review_vector = vectorizer.transform([review]) # vectorizing\n",
    "review_sentiment = classifier_linear.predict(review_vector)\n",
    "print(f\"Thank you for the {review_sentiment} review\")"
   ]
  },
  {
   "cell_type": "code",
   "execution_count": 147,
   "metadata": {},
   "outputs": [
    {
     "data": {
      "text/plain": [
       "['svm_model_3.joblib']"
      ]
     },
     "execution_count": 147,
     "metadata": {},
     "output_type": "execute_result"
    }
   ],
   "source": [
    "from joblib import dump, load\n",
    "dump(classifier_linear, 'svm_model_3.joblib')"
   ]
  },
  {
   "cell_type": "code",
   "execution_count": null,
   "metadata": {},
   "outputs": [],
   "source": []
  }
 ],
 "metadata": {
  "kernelspec": {
   "display_name": "Python 3",
   "language": "python",
   "name": "python3"
  },
  "language_info": {
   "codemirror_mode": {
    "name": "ipython",
    "version": 3
   },
   "file_extension": ".py",
   "mimetype": "text/x-python",
   "name": "python",
   "nbconvert_exporter": "python",
   "pygments_lexer": "ipython3",
   "version": "3.7.4"
  }
 },
 "nbformat": 4,
 "nbformat_minor": 2
}
