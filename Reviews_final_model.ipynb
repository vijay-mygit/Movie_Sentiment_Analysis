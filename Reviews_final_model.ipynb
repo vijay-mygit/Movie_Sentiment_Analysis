{
 "cells": [
  {
   "cell_type": "code",
   "execution_count": 1,
   "metadata": {},
   "outputs": [],
   "source": [
    "from joblib import dump, load"
   ]
  },
  {
   "cell_type": "code",
   "execution_count": 2,
   "metadata": {},
   "outputs": [],
   "source": [
    "model = load('svm_model.joblib') "
   ]
  },
  {
   "cell_type": "code",
   "execution_count": 3,
   "metadata": {},
   "outputs": [
    {
     "data": {
      "text/html": [
       "<div>\n",
       "<style scoped>\n",
       "    .dataframe tbody tr th:only-of-type {\n",
       "        vertical-align: middle;\n",
       "    }\n",
       "\n",
       "    .dataframe tbody tr th {\n",
       "        vertical-align: top;\n",
       "    }\n",
       "\n",
       "    .dataframe thead th {\n",
       "        text-align: right;\n",
       "    }\n",
       "</style>\n",
       "<table border=\"1\" class=\"dataframe\">\n",
       "  <thead>\n",
       "    <tr style=\"text-align: right;\">\n",
       "      <th></th>\n",
       "      <th>sentiment</th>\n",
       "      <th>review</th>\n",
       "    </tr>\n",
       "  </thead>\n",
       "  <tbody>\n",
       "    <tr>\n",
       "      <td>0</td>\n",
       "      <td>positive</td>\n",
       "      <td>One of the other reviewers has mentioned that ...</td>\n",
       "    </tr>\n",
       "    <tr>\n",
       "      <td>1</td>\n",
       "      <td>positive</td>\n",
       "      <td>A wonderful little production. &lt;br /&gt;&lt;br /&gt;The...</td>\n",
       "    </tr>\n",
       "    <tr>\n",
       "      <td>2</td>\n",
       "      <td>positive</td>\n",
       "      <td>I thought this was a wonderful way to spend ti...</td>\n",
       "    </tr>\n",
       "    <tr>\n",
       "      <td>3</td>\n",
       "      <td>negative</td>\n",
       "      <td>Basically there's a family where a little boy ...</td>\n",
       "    </tr>\n",
       "    <tr>\n",
       "      <td>4</td>\n",
       "      <td>positive</td>\n",
       "      <td>Petter Mattei's \"Love in the Time of Money\" is...</td>\n",
       "    </tr>\n",
       "  </tbody>\n",
       "</table>\n",
       "</div>"
      ],
      "text/plain": [
       "  sentiment                                             review\n",
       "0  positive  One of the other reviewers has mentioned that ...\n",
       "1  positive  A wonderful little production. <br /><br />The...\n",
       "2  positive  I thought this was a wonderful way to spend ti...\n",
       "3  negative  Basically there's a family where a little boy ...\n",
       "4  positive  Petter Mattei's \"Love in the Time of Money\" is..."
      ]
     },
     "execution_count": 3,
     "metadata": {},
     "output_type": "execute_result"
    }
   ],
   "source": [
    "import pandas as pd\n",
    "# train Data\n",
    "Data = pd.read_csv(\"https://imdb-reviews-data.s3.us-east-2.amazonaws.com/IMDB%2BDataset+(1).csv\")\n",
    "Data.head()"
   ]
  },
  {
   "cell_type": "code",
   "execution_count": 22,
   "metadata": {},
   "outputs": [],
   "source": [
    "from sklearn.feature_extraction.text import TfidfVectorizer\n",
    "# Create feature vectors\n",
    "vectorizer = TfidfVectorizer(min_df = 5,\n",
    "                             max_df = 0.8,\n",
    "                             sublinear_tf = True,\n",
    "                             use_idf = True)\n",
    "train_vectors = vectorizer.fit_transform(Data['review'])"
   ]
  },
  {
   "cell_type": "code",
   "execution_count": 26,
   "metadata": {},
   "outputs": [
    {
     "name": "stdout",
     "output_type": "stream",
     "text": [
      "  (0, 22574)\t0.7337833442210643\n",
      "  (0, 14108)\t0.6793835468597625\n",
      "Thank you for the ['positive'] review\n"
     ]
    }
   ],
   "source": [
    "review = \"\"\"no good\"\"\"\n",
    "review_vector = vectorizer.transform([review]) # vectorizing\n",
    "print(review_vector)\n",
    "print(f\"Thank you for the {model.predict(review_vector)} review\")\n"
   ]
  },
  {
   "cell_type": "code",
   "execution_count": 34,
   "metadata": {},
   "outputs": [
    {
     "name": "stdout",
     "output_type": "stream",
     "text": [
      "Thank you for the ['positive'] review\n"
     ]
    }
   ],
   "source": [
    "review = \"\"\"The movie is wonderful\"\"\"\n",
    "review_vector = vectorizer.transform([review]) # vectorizing\n",
    "print(f\"Thank you for the {model.predict(review_vector)} review\")"
   ]
  },
  {
   "cell_type": "code",
   "execution_count": 35,
   "metadata": {},
   "outputs": [
    {
     "name": "stdout",
     "output_type": "stream",
     "text": [
      "Thank you for the ['positive'] review\n"
     ]
    }
   ],
   "source": [
    "review = \"\"\"I was a little surprised at first to see this film ranked #1 out of all possible candidates in the IMDB user ratings. When I thought about it, though, it made more sense--this is a \"Rocky\"-type feel-good movie that doesn't really make you think and reinforces what we would all like to believe about human nature. Don't get me wrong--it's a fine film (I gave it a solid 7 out of 10), it's just not, in my view, up there with _Casablanca_ and _The Graduate_.\n",
    "\n",
    "I guess the main problem I have with _Shawshank_ is the nature of the script and characters. Think about it: is there a single person in the film who isn't a one-dimensional cardboard cut-out with very simple motivations, or a Hollywood cliche or stereotype? We have (in no particular order), a corrupt, bigoted prison warden (who is a religious hypocrite for good measure), a brutal prison guard, a man who is wrongly accused of murder, an old convict who knows all the ropes and can't live on the outside, and a convict who is murdered by the brutal guards. Now where have we seen this stuff before? Only in a few dozen movies made from the 20s to the 90s. There's really nothing new here. Probably this comes from the fact that the story is from Stephen King, who doesn't really do well with complex characters (a problem I noted as far back as _Carrie_).\n",
    "\n",
    "If you want to see a good prison picture, try _Cool Hand Luke_ (from which this movie borrows considerably). If you want an escape picture, see either _The Great Escape_ or _Papillon_, both with Steve McQueen. Or if, by some chance, you want a crime and punishment movie that really makes you think, go with the late great Stanley Kubrick's _A Clockwork Orange_.\n",
    "\n",
    "I couldn't stop thinking about the warden: doesn't he have a family? How did they feel? What are they going to do now? I realize the story is inside the prison, but I wish the movie had made better use of its characters than simply as simple-minded symbols of EVIL or VIRTUE.\n",
    "\n",
    "I'm not Mr. Cranky, I did enjoy the movie, but I enjoyed it the same way I do an Italian dinner at the Olive Garden--a well-constructed genre product with nothing special to commend it.\"\"\"\n",
    "review_vector = vectorizer.transform([review]) # vectorizing\n",
    "print(f\"Thank you for the {model.predict(review_vector)} review\")"
   ]
  },
  {
   "cell_type": "code",
   "execution_count": 36,
   "metadata": {},
   "outputs": [
    {
     "name": "stdout",
     "output_type": "stream",
     "text": [
      "Thank you for the ['negative'] review\n"
     ]
    }
   ],
   "source": [
    "review = \"\"\"Absolutely dreadful - If you love the books, don't watch it\"\"\"\n",
    "review_vector = vectorizer.transform([review]) # vectorizing\n",
    "review_sentiment = model.predict(review_vector)\n",
    "print(f\"Thank you for the {review_sentiment} review\")"
   ]
  },
  {
   "cell_type": "code",
   "execution_count": 37,
   "metadata": {},
   "outputs": [
    {
     "name": "stdout",
     "output_type": "stream",
     "text": [
      "Thank you for the ['negative'] review\n"
     ]
    }
   ],
   "source": [
    "review = \"\"\"it is bad \"\"\"\n",
    "review_vector = vectorizer.transform([review]) # vectorizing\n",
    "review_sentiment = model.predict(review_vector)\n",
    "print(f\"Thank you for the {review_sentiment} review\")"
   ]
  },
  {
   "cell_type": "code",
   "execution_count": 38,
   "metadata": {},
   "outputs": [
    {
     "name": "stdout",
     "output_type": "stream",
     "text": [
      "Thank you for the ['negative'] review\n"
     ]
    }
   ],
   "source": [
    "review = \"\"\"Technically right but ... something missing\"\"\"\n",
    "review_vector = vectorizer.transform([review]) # vectorizing\n",
    "review_sentiment = model.predict(review_vector)\n",
    "print(f\"Thank you for the {review_sentiment} review\")"
   ]
  },
  {
   "cell_type": "code",
   "execution_count": 39,
   "metadata": {},
   "outputs": [
    {
     "name": "stdout",
     "output_type": "stream",
     "text": [
      "Thank you for the ['positive'] review\n"
     ]
    }
   ],
   "source": [
    "review = \"\"\"\"a suckfest of epic proportion\"\"\"\n",
    "review_vector = vectorizer.transform([review]) # vectorizing\n",
    "review_sentiment = model.predict(review_vector)\n",
    "print(f\"Thank you for the {review_sentiment} review\")"
   ]
  },
  {
   "cell_type": "code",
   "execution_count": 40,
   "metadata": {},
   "outputs": [
    {
     "name": "stdout",
     "output_type": "stream",
     "text": [
      "Thank you for the ['negative'] review\n"
     ]
    }
   ],
   "source": [
    "review = \"\"\"\"One of my most anticipated 2020 films lands with a dull thud. Excluding credits, this movie is 78 minutes long... and 75 of those minutes are spent listening to Hanks scream orders like, \"Left Full Rudder! Bearing Two Niner Zero! Hard to Starboard!\" There is zero character development... and Elisabeth Shue (who gets second billing) has exactly 15 seconds of screen-time. What a disappointment.\"\"\"\n",
    "review_vector = vectorizer.transform([review]) # vectorizing\n",
    "review_sentiment = model.predict(review_vector)\n",
    "print(f\"Thank you for the {review_sentiment} review\")"
   ]
  },
  {
   "cell_type": "code",
   "execution_count": 41,
   "metadata": {},
   "outputs": [
    {
     "name": "stdout",
     "output_type": "stream",
     "text": [
      "Thank you for the ['negative'] review\n"
     ]
    }
   ],
   "source": [
    "review = \"\"\"\"i did not bother to watch it\"\"\"\n",
    "review_vector = vectorizer.transform([review]) # vectorizing\n",
    "review_sentiment = model.predict(review_vector)\n",
    "print(f\"Thank you for the {review_sentiment} review\")"
   ]
  },
  {
   "cell_type": "code",
   "execution_count": 42,
   "metadata": {},
   "outputs": [
    {
     "name": "stdout",
     "output_type": "stream",
     "text": [
      "Thank you for the ['positive'] review\n"
     ]
    }
   ],
   "source": [
    "review = \"\"\"\"this movie is not that great. i liked the previous one and would not recommend this movie to my friends.\"\"\"\n",
    "review_vector = vectorizer.transform([review]) # vectorizing\n",
    "review_sentiment = model.predict(review_vector)\n",
    "print(f\"Thank you for the {review_sentiment} review\")"
   ]
  },
  {
   "cell_type": "code",
   "execution_count": null,
   "metadata": {},
   "outputs": [],
   "source": []
  }
 ],
 "metadata": {
  "kernelspec": {
   "display_name": "Python 3",
   "language": "python",
   "name": "python3"
  },
  "language_info": {
   "codemirror_mode": {
    "name": "ipython",
    "version": 3
   },
   "file_extension": ".py",
   "mimetype": "text/x-python",
   "name": "python",
   "nbconvert_exporter": "python",
   "pygments_lexer": "ipython3",
   "version": "3.7.4"
  }
 },
 "nbformat": 4,
 "nbformat_minor": 2
}
